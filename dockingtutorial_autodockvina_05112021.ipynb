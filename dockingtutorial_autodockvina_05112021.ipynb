{
 "cells": [
  {
   "cell_type": "code",
   "execution_count": 1,
   "metadata": {},
   "outputs": [],
   "source": [
    "## May 11 2021\n",
    "## Author: BDV\n",
    "## Autodock Vina instructions"
   ]
  },
  {
   "cell_type": "markdown",
   "metadata": {},
   "source": [
    "# Autodock Vina instructions"
   ]
  },
  {
   "cell_type": "markdown",
   "metadata": {},
   "source": [
    "This document provides instructions on using the open-source program AutoDock Vina (Trott et al., J. Comput. Chem., 2010). This program can be used to predict bound conformations of ligands. It incorporates ligand flexibility, but it employs a rigid protein structure.\n",
    "\n",
    "You will need to install AutoDock Vina for it. Users of Debian-based Linux distributions will have an easy time with this. Simply use \n",
    "the following command:\n",
    "\n",
    "    sudo apt install autodock-vina"
   ]
  },
  {
   "cell_type": "markdown",
   "metadata": {},
   "source": [
    "Windows and MacOS users, please head to: http://vina.scripps.edu/"
   ]
  },
  {
   "cell_type": "markdown",
   "metadata": {},
   "source": [
    "Additionally, I recommend the following software:\n",
    "\n",
    "1) Molecular drawing software: XDrawChem is free software. Proprietary options include ChemDraw, ChemDoodle, and Marvin\n",
    "\n",
    "2) Three-dimensional modeling software: one of the best options is Avogadro, which is free software. Proprietary options include Chem3D and ChemDoodle 3D\n",
    "\n",
    "3) Tools to prepare the ligand and receptor files to the correct format: the option by default here is AutoDock Tools. It is provided free of charge by the Scripps Research Institute: http://mgltools.scripps.edu/downloads\n",
    "\n",
    "Unfortunately, MacOS users under the Catalina update might be unable to use this program, as it is, from what I understand, 32-bit.\n",
    "\n",
    "4) Molecular visualization software: pymol and VMD are common options. Pymol has an open source version that is readily available through software repositories"
   ]
  },
  {
   "cell_type": "markdown",
   "metadata": {},
   "source": [
    "Just like with Vina, Debian and Ubuntu Linux users will find copies of XDrawChem, Avogadro, and Pymol through the APT software repository\n",
    "\n",
    "    sudo apt install pymol\n",
    "    sudo apt install xdrawchem\n",
    "    sudo apt install avogadro"
   ]
  },
  {
   "cell_type": "markdown",
   "metadata": {},
   "source": [
    "## Part 1: create a dedicated folder and download the protein crystal structure file "
   ]
  },
  {
   "cell_type": "markdown",
   "metadata": {},
   "source": [
    "### 1.1 Create a folder that is easy to access when using a terminal"
   ]
  },
  {
   "cell_type": "markdown",
   "metadata": {},
   "source": [
    "On all three major operating systems (OS), creating a folder can easily be done through the graphical user interface. Simply open your OS file explorer and select the relevant “create folder” option. Name the folder with whatever name you prefer.\n",
    "\n",
    "- On Windows, a suggested location to create this folder is in C:\\Users\\yourusername\n",
    "- On Mac OS, a suggested location is the home directory, i.e. /Users/yourusername\n",
    "- On Linux, a suggested location is the home directory, i.e. /home/yourusername\n",
    "\n",
    "(In the addresses above, replace “yourusername” with your username.)"
   ]
  },
  {
   "cell_type": "markdown",
   "metadata": {},
   "source": [
    "### 1.2 Download the desired files in your new folder"
   ]
  },
  {
   "cell_type": "markdown",
   "metadata": {},
   "source": [
    "The best source of protein structures is the Protein Data Bank (PDB). Head to https://www.rcsb.org/ and enter the PDB ID code of your protein of interest. Click on the relevant result, and then click on “Download files”. Select the “PDB format” option. Download the file in the folder you created on the previous step."
   ]
  },
  {
   "cell_type": "markdown",
   "metadata": {},
   "source": [
    "### 1.3 Familiarize yourself with the terminal"
   ]
  },
  {
   "cell_type": "markdown",
   "metadata": {},
   "source": [
    "On Windows, type “command prompt” on the search field, and click the relevant icon. By default, the terminal will open on the C:\\Users\\yourusername folder. You can move to the folder you created on the last step by typing:\n",
    "    \n",
    "    cd foldername\n",
    "\n",
    "and hitting enter\n",
    "\n",
    "On MacOS, type “terminal” either on Spotlight Search or on the launchpad, and click the relevant icon. By default, the terminal will open on the /Users/yourusername folder. You can move to the folder you created on the last step by typing:\n",
    "\n",
    "    cd foldername\n",
    "    \n",
    "and hitting enter.\n",
    "\n",
    "On Linux, type “terminal” on the search field relevant to your distribution. By default, the terminal will open on the /home/yourusername folder. You can move to the folder you created on the last step by typing:\n",
    "\n",
    "    cd foldername\n",
    "    \n",
    "and hitting enter.\n",
    "\n",
    "(In the commands above, replace “foldername” with the name of the folder you created, and omit the quotation marks.)\n",
    "On all three operating systems, you can get a list of the contents of your current working folder by typing “ls” on MacOS (l as in Latin; omit quotation marks) and hitting enter, or “dir” on Windows."
   ]
  },
  {
   "cell_type": "markdown",
   "metadata": {},
   "source": [
    "## Part 2: prepare the ligand file"
   ]
  },
  {
   "cell_type": "markdown",
   "metadata": {},
   "source": [
    "###  2.1 Create a flat ligand drawing in .mol format"
   ]
  },
  {
   "cell_type": "markdown",
   "metadata": {},
   "source": [
    "Create a flat molecule drawing. Suggested programs for this are XdrawChem, ChemDraw, ChemDoodle, and Marvin. Save as a .mol file in your dedicated folder."
   ]
  },
  {
   "cell_type": "markdown",
   "metadata": {},
   "source": [
    "### 2.2 Create a 3D ligand structure in .mol2 format"
   ]
  },
  {
   "cell_type": "markdown",
   "metadata": {},
   "source": [
    "Convert your .mol file to a 3D structure. Open your .mol file in Avogadro (suitable alternatives are Chem3D and ChemDoodle 3D) and accept the prompt asking whether a 3D geometry should be automatically generated. Add hydrogens, and optimize the geometry. Save as a .mol2 file in your dedicated folder.\n",
    "\n",
    "Note: You can also save a 3D ligand as a .pdb file. The program described in the next section works well with either .pdb and .mol2."
   ]
  },
  {
   "cell_type": "markdown",
   "metadata": {},
   "source": [
    "### 2.3 Create a 3D ligand structure in .pdbqt format"
   ]
  },
  {
   "cell_type": "markdown",
   "metadata": {},
   "source": [
    "Open your .mol2 file in AutoDock Tools. Click on “Ligand”, “Input”, “Open…” and navigate to the directory where your .mol2 file is saved. Once the file is loaded, the program will automatically check the structure and prepare its features. Click on “Ligand”, “Output”, “Save as PDBQT…” and save it in your dedicated folder."
   ]
  },
  {
   "cell_type": "markdown",
   "metadata": {},
   "source": [
    "## Part 3: prepare the protein file"
   ]
  },
  {
   "cell_type": "markdown",
   "metadata": {},
   "source": [
    "### 3.1 Clean up your protein file"
   ]
  },
  {
   "cell_type": "markdown",
   "metadata": {},
   "source": [
    "Most protein structures from the PDB come with additional entities such as co-crystallized ligands and trapped water molecules.\n",
    "\n",
    "Open your pdb file in Pymol. Using the search tab (activate by clicking the “S” button in the toolbar at the bottom right panel), select all the amino acids from your protein while leaving out ligands and water. Click “File”, “Export molecule…”, and in the Selection field, pick “sele”. Then click save and set the format as .pdb.\n",
    "\n",
    "You can use the same process as above to save a crystallized ligand. Simply pick up the ligand sequence instead of amino acids, and export away. Then you can convert this ligand to a pdbqt file as described above."
   ]
  },
  {
   "cell_type": "markdown",
   "metadata": {},
   "source": [
    "### 3.2 Convert the protein file to .pdbqt"
   ]
  },
  {
   "cell_type": "markdown",
   "metadata": {},
   "source": [
    "Open your .pdb protein file in AutoDock Tools. Click “File”, “Read molecule…”, and select your protein. Add polar hydrogens: click “Edit”, “Hydrogens”, “Add”, and select the “Polar Only” option. Click OK.\n",
    "\n",
    "Save your protein as a PDBQT file.  Click “Grid”, “Macromolecule”, “Choose...”, and select your protein from the list. Click “Select Molecule” to save in your dedicated folder.\n",
    "\n",
    "At this point, you can explore the putative binding site of the protein by loading your crystallized ligand (“Ligand”, “Input”, “Open…”). Once you identify said binding site, you can determine the coordinates of the docking box you want to use.\n",
    "\n",
    "To configure the docking box,  Click “Grid”, “Macromolecule”, “Grid Box…”. A box will appear. Set the Spacing option to 1.0, and play around with the Center Grid Box coordinates until you fit the box in the area of the protein you want to dock your ligand in. As for the number of points in each dimension (x, y, and z), it is recommended to set it to 15 for a more meaningful result. Once you are satisfied with the size and position of the grid box, simply write down the following 6 numbers:\n",
    "\n",
    "- Number of points in the x, y, and z dimension (3 values)\n",
    "- Center of the grid in the x, y, and z dimension (3 values)\n",
    "\n",
    "After doing so, close the Grid Options window. No data is saved, so you need to write it down manually and then enter it into the Vina program (see below)"
   ]
  },
  {
   "cell_type": "markdown",
   "metadata": {},
   "source": [
    "## Part 4: perform the docking run"
   ]
  },
  {
   "cell_type": "markdown",
   "metadata": {},
   "source": [
    "### 4.1 Create a configuration file"
   ]
  },
  {
   "cell_type": "markdown",
   "metadata": {},
   "source": [
    "Create an empty text file in your dedicated folder. Give it a simple name. Inside it, write the following lines:\n",
    "\n",
    "receptor=yourreceptorfile.pdbqt\n",
    "\n",
    "ligand=yourligandfile.pdbqt\n",
    "\n",
    "center_x=coordinates in the x dimension\n",
    "\n",
    "center_y=coordinates in the y dimension\n",
    "\n",
    "center_z=coordinates in the z dimension\n",
    "\n",
    "size_x=size of the box in the x dimension\n",
    "\n",
    "size_y= size of the box in the y dimension\n",
    "\n",
    "size_z= size of the box in the z dimension\n",
    "\n",
    "(Replace yourreceptorfile.pdbqt and yourligandfile.pdbqt with the file names of the ligand and receptor files you saved in .pdbqt format.)"
   ]
  },
  {
   "cell_type": "markdown",
   "metadata": {},
   "source": [
    "### 4.2 Perform the docking run"
   ]
  },
  {
   "cell_type": "markdown",
   "metadata": {},
   "source": [
    "Open a terminal and enter your dedicated folder (use the command:\n",
    "    \n",
    "    cd foldername \n",
    "    \n",
    "as indicated previously.)\n",
    "\n",
    "Once inside your folder:\n",
    "\n",
    "On MacOS and Linux, type: \n",
    "    \n",
    "    vina --config yourconfigfile.txt --log logfile.txt\n",
    "    \n",
    "On Windows, type: \n",
    "    \n",
    "    “C:\\Program Files (x86)\\The Scripps Research Institute\\Vina\\vina.exe” --config yourconfigfile.txt  --log logfile.txt\n",
    "\n",
    "On the commands above replace yourconfigfile.txt with the name of the configuration file you created, and logfile.txt with any name you want (the file will be automatically created).\n",
    "\n",
    "If all goes well, docking will start, and you will get an output file in .pdbqt format.\n",
    "\n",
    "Open Pymol and load your receptor (the pdb file you downloaded from the data bank) and the docked ligand file (for a ligand file named myligand.pdbqt, Vina will generate a docked file named myligand_out.pdbqt). Use the left and right arrows to view the different poses. The log file that was automatically generated records the binding energy information of each pose."
   ]
  },
  {
   "cell_type": "markdown",
   "metadata": {},
   "source": [
    "### 4.3 Visualize your results!"
   ]
  },
  {
   "cell_type": "markdown",
   "metadata": {},
   "source": [
    "Open Pymol and load your receptor (the pdb file you downloaded from the data bank) and the docked ligand file (for a ligand file named myligand.pdbqt, Vina will generate a docked file named myligand_out.pdbqt). Use the left and right arrows to view the different poses. The log file that was automatically generated records the binding energy information of each pose."
   ]
  },
  {
   "cell_type": "markdown",
   "metadata": {},
   "source": [
    "## Reference\n",
    "O. Trott, A. J. Olson, AutoDock Vina: improving the speed and accuracy of docking with a new scoring function, efficient optimization and multithreading, Journal of Computational Chemistry 31 (2010) 455-461"
   ]
  },
  {
   "cell_type": "code",
   "execution_count": null,
   "metadata": {},
   "outputs": [],
   "source": []
  }
 ],
 "metadata": {
  "kernelspec": {
   "display_name": "Python 3",
   "language": "python",
   "name": "python3"
  },
  "language_info": {
   "codemirror_mode": {
    "name": "ipython",
    "version": 3
   },
   "file_extension": ".py",
   "mimetype": "text/x-python",
   "name": "python",
   "nbconvert_exporter": "python",
   "pygments_lexer": "ipython3",
   "version": "3.8.5"
  }
 },
 "nbformat": 4,
 "nbformat_minor": 4
}
